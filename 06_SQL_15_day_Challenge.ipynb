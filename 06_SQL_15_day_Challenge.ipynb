{
 "cells": [
  {
   "cell_type": "markdown",
   "id": "5e952bb9",
   "metadata": {},
   "source": [
    "# Imports"
   ]
  },
  {
   "cell_type": "code",
   "execution_count": 1,
   "id": "e102ae15",
   "metadata": {},
   "outputs": [],
   "source": [
    "%load_ext sql\n",
    "%sql sqlite:///TestQ.db\n",
    "\n",
    "import pandas as pd\n",
    "import sqlite3\n",
    "# Connect to DB\n",
    "conn = sqlite3.connect(\"TestQ.db\")"
   ]
  },
  {
   "cell_type": "markdown",
   "id": "49174dec",
   "metadata": {},
   "source": [
    "https://github.com/yashjadwani/15-Days-SQL-challenge-by-PrepVector"
   ]
  },
  {
   "cell_type": "markdown",
   "id": "2f7e7e0a",
   "metadata": {},
   "source": [
    "# Question 1"
   ]
  },
  {
   "cell_type": "code",
   "execution_count": 2,
   "id": "070b1e65",
   "metadata": {},
   "outputs": [],
   "source": [
    "# -- Question\n",
    "\n",
    "# You’re given two tables: users and events. \n",
    "# The events table holds values of all of the user events in the action column (‘like’, ‘comment’, or ‘post’).\n",
    "\n",
    "# Write a query to get the percentage of users that have never liked or commented, rounded to two decimal places."
   ]
  },
  {
   "cell_type": "code",
   "execution_count": 3,
   "id": "92482761",
   "metadata": {},
   "outputs": [
    {
     "name": "stdout",
     "output_type": "stream",
     "text": [
      " * sqlite:///TestQ.db\n",
      "Done.\n",
      "6 rows affected.\n",
      "Done.\n",
      "17 rows affected.\n"
     ]
    },
    {
     "data": {
      "text/plain": [
       "[]"
      ]
     },
     "execution_count": 3,
     "metadata": {},
     "output_type": "execute_result"
    }
   ],
   "source": [
    "%%sql\n",
    "\n",
    "CREATE TABLE users (\n",
    "user_id INT PRIMARY KEY,\n",
    "name VARCHAR(50)\n",
    ");\n",
    "\n",
    "INSERT INTO users (user_id, name) VALUES\n",
    "(1, 'John'),\n",
    "(2, 'Jane'),\n",
    "(3, 'Bob'),\n",
    "(4, 'Alice'),\n",
    "(5, 'Mike'),\n",
    "(6, 'ABC');\n",
    "\n",
    "CREATE TABLE events (\n",
    "event_id INT PRIMARY KEY,\n",
    "user_id INT,\n",
    "action VARCHAR(10),\n",
    "created_at DATETIME,\n",
    "FOREIGN KEY (user_id) REFERENCES users(user_id)\n",
    ");\n",
    "\n",
    "INSERT INTO events (event_id, user_id, action, created_at) VALUES\n",
    "(1, 1, 'post', '2024-01-01 10:00:00'),\n",
    "(2, 1, 'post', '2024-01-01 14:00:00'),\n",
    "(3, 1, 'post', '2024-01-02 09:00:00'),\n",
    "(4, 2, 'like', '2024-01-01 10:05:00'),\n",
    "(5, 2, 'comment', '2024-01-01 10:10:00'),\n",
    "(6, 2, 'post', '2024-01-01 15:00:00'),\n",
    "(7, 2, 'like', '2024-01-02 10:00:00'),\n",
    "(8, 2, 'comment', '2024-01-02 10:30:00'),\n",
    "(9, 3, 'post', '2024-01-01 11:00:00'),\n",
    "(10, 3, 'post', '2024-01-02 13:00:00'),\n",
    "(11, 3, 'post', '2024-01-03 09:00:00'),\n",
    "(12, 4, 'post', '2024-01-02 09:00:00'),\n",
    "(13, 4, 'post', '2024-01-02 16:00:00'),\n",
    "(14, 4, 'post', '2024-01-03 11:00:00'),\n",
    "(15, 5, 'like', '2024-01-02 14:00:00'),\n",
    "(16, 5, 'post', '2024-01-03 10:00:00'),\n",
    "(17, 5, 'like', '2024-01-03 15:00:00');"
   ]
  },
  {
   "cell_type": "code",
   "execution_count": 27,
   "id": "3f3f5c73",
   "metadata": {},
   "outputs": [
    {
     "data": {
      "text/html": [
       "<div>\n",
       "<style scoped>\n",
       "    .dataframe tbody tr th:only-of-type {\n",
       "        vertical-align: middle;\n",
       "    }\n",
       "\n",
       "    .dataframe tbody tr th {\n",
       "        vertical-align: top;\n",
       "    }\n",
       "\n",
       "    .dataframe thead th {\n",
       "        text-align: right;\n",
       "    }\n",
       "</style>\n",
       "<table border=\"1\" class=\"dataframe\">\n",
       "  <thead>\n",
       "    <tr style=\"text-align: right;\">\n",
       "      <th></th>\n",
       "      <th>perc_inactive</th>\n",
       "    </tr>\n",
       "  </thead>\n",
       "  <tbody>\n",
       "    <tr>\n",
       "      <th>0</th>\n",
       "      <td>66.67</td>\n",
       "    </tr>\n",
       "  </tbody>\n",
       "</table>\n",
       "</div>"
      ],
      "text/plain": [
       "   perc_inactive\n",
       "0          66.67"
      ]
     },
     "execution_count": 27,
     "metadata": {},
     "output_type": "execute_result"
    }
   ],
   "source": [
    "query = \"\"\"\n",
    "WITH user_actions as (\n",
    "select user_id, count(*) as num_like_comments from events \n",
    "where action != 'post'\n",
    "group by 1)\n",
    "\n",
    "SELECT \n",
    "    ROUND(\n",
    "    COUNT(DISTINCT CASE WHEN e.num_like_comments is NULL THEN u.user_id END) * 100.0 / COUNT(DISTINCT u.user_id) \n",
    "    , 2) as perc_inactive\n",
    "FROM \n",
    "    users u \n",
    "LEFT JOIN \n",
    "    user_actions e ON u.user_id = e.user_id;\n",
    "\"\"\"\n",
    "\n",
    "df = pd.read_sql_query(query, conn)\n",
    "df"
   ]
  },
  {
   "cell_type": "markdown",
   "id": "6cbe5e7c",
   "metadata": {},
   "source": [
    "# Question 2"
   ]
  },
  {
   "cell_type": "code",
   "execution_count": null,
   "id": "f1c83c52",
   "metadata": {},
   "outputs": [],
   "source": [
    "# -- Question \n",
    "\n",
    "# Given a table of transactions and a table of users\n",
    "# write a query to determine if users tend to order more to their primary address versus other addresses.\n",
    "\n",
    "# Note: Return the percentage of transactions ordered to their home address as home_address_percent."
   ]
  },
  {
   "cell_type": "code",
   "execution_count": 35,
   "id": "869f7f98",
   "metadata": {},
   "outputs": [
    {
     "name": "stdout",
     "output_type": "stream",
     "text": [
      " * sqlite:///TestQ.db\n",
      "Done.\n",
      "Done.\n"
     ]
    },
    {
     "data": {
      "text/plain": [
       "[]"
      ]
     },
     "execution_count": 35,
     "metadata": {},
     "output_type": "execute_result"
    }
   ],
   "source": [
    "%%sql\n",
    "\n",
    "DROP TABLE IF EXISTS users;\n",
    "DROP TABLE IF EXISTS  transactions;"
   ]
  },
  {
   "cell_type": "code",
   "execution_count": 36,
   "id": "419107b8",
   "metadata": {},
   "outputs": [
    {
     "name": "stdout",
     "output_type": "stream",
     "text": [
      " * sqlite:///TestQ.db\n",
      "Done.\n",
      "Done.\n",
      "Done.\n",
      "Done.\n"
     ]
    },
    {
     "data": {
      "text/plain": [
       "[]"
      ]
     },
     "execution_count": 36,
     "metadata": {},
     "output_type": "execute_result"
    }
   ],
   "source": [
    "%%sql\n",
    "\n",
    "CREATE TABLE transactions (\n",
    "id INT PRIMARY KEY,\n",
    "user_id INT,\n",
    "created_at DATETIME,\n",
    "shipping_address VARCHAR(255)\n",
    ");\n",
    "\n",
    "-- Transactions sample data\n",
    "INSERT INTO transactions (id, user_id, created_at, shipping_address) VALUES\n",
    "(1, 1, '2025-01-15 10:30:00', '123 Main St'), \n",
    "(2, 1, '2025-01-16 11:45:00', '789 Oak Ave'), \n",
    "(3, 2, '2025-01-17 14:20:00', '456 Elm St'), \n",
    "(4, 2, '2025-01-18 15:10:00', '123 Pine Rd'), \n",
    "(5, 3, '2025-01-19 16:05:00', '789 Oak Ave'), \n",
    "(6, 3, '2025-01-20 17:40:00', '123 Main St'),\n",
    "(7, 3, '2025-01-21 17:45:00', '123 Main St');\n",
    "\n",
    "CREATE TABLE users (\n",
    "id INT PRIMARY KEY,\n",
    "name VARCHAR(255),\n",
    "address VARCHAR(255)\n",
    ");\n",
    "\n",
    "-- Users sample data\n",
    "INSERT INTO users (id, name, address) VALUES\n",
    "(1, 'John Doe', '123 Main St'),\n",
    "(2, 'Jane Smith', '456 Elm St'),\n",
    "(3, 'Alice Johnson', '789 Oak Ave');"
   ]
  },
  {
   "cell_type": "code",
   "execution_count": 42,
   "id": "f67e52b5",
   "metadata": {},
   "outputs": [
    {
     "data": {
      "text/html": [
       "<div>\n",
       "<style scoped>\n",
       "    .dataframe tbody tr th:only-of-type {\n",
       "        vertical-align: middle;\n",
       "    }\n",
       "\n",
       "    .dataframe tbody tr th {\n",
       "        vertical-align: top;\n",
       "    }\n",
       "\n",
       "    .dataframe thead th {\n",
       "        text-align: right;\n",
       "    }\n",
       "</style>\n",
       "<table border=\"1\" class=\"dataframe\">\n",
       "  <thead>\n",
       "    <tr style=\"text-align: right;\">\n",
       "      <th></th>\n",
       "      <th>id</th>\n",
       "      <th>name</th>\n",
       "      <th>home_address_orders</th>\n",
       "      <th>total_orders</th>\n",
       "      <th>home_address_percent</th>\n",
       "    </tr>\n",
       "  </thead>\n",
       "  <tbody>\n",
       "    <tr>\n",
       "      <th>0</th>\n",
       "      <td>1</td>\n",
       "      <td>John Doe</td>\n",
       "      <td>1</td>\n",
       "      <td>2</td>\n",
       "      <td>50.00</td>\n",
       "    </tr>\n",
       "    <tr>\n",
       "      <th>1</th>\n",
       "      <td>2</td>\n",
       "      <td>Jane Smith</td>\n",
       "      <td>1</td>\n",
       "      <td>2</td>\n",
       "      <td>50.00</td>\n",
       "    </tr>\n",
       "    <tr>\n",
       "      <th>2</th>\n",
       "      <td>3</td>\n",
       "      <td>Alice Johnson</td>\n",
       "      <td>1</td>\n",
       "      <td>3</td>\n",
       "      <td>33.33</td>\n",
       "    </tr>\n",
       "  </tbody>\n",
       "</table>\n",
       "</div>"
      ],
      "text/plain": [
       "   id           name  home_address_orders  total_orders  home_address_percent\n",
       "0   1       John Doe                    1             2                 50.00\n",
       "1   2     Jane Smith                    1             2                 50.00\n",
       "2   3  Alice Johnson                    1             3                 33.33"
      ]
     },
     "execution_count": 42,
     "metadata": {},
     "output_type": "execute_result"
    }
   ],
   "source": [
    "query = \"\"\"\n",
    "select\n",
    "    u.id,\n",
    "    u.name, \n",
    "    count(distinct case when u.address = t.shipping_address then t.id end) as home_address_orders,\n",
    "    count(distinct t.id) as total_orders,\n",
    "    ROUND(count(distinct case when u.address = t.shipping_address then t.id end) * 100.0 / count(distinct t.id), 2) as home_address_percent\n",
    "from\n",
    "    users u left join transactions t on u.id = t.user_id\n",
    "group by\n",
    "    1, 2;\n",
    "\"\"\"\n",
    "\n",
    "df = pd.read_sql_query(query, conn)\n",
    "df"
   ]
  },
  {
   "cell_type": "code",
   "execution_count": 46,
   "id": "48167e90",
   "metadata": {},
   "outputs": [
    {
     "data": {
      "text/html": [
       "<div>\n",
       "<style scoped>\n",
       "    .dataframe tbody tr th:only-of-type {\n",
       "        vertical-align: middle;\n",
       "    }\n",
       "\n",
       "    .dataframe tbody tr th {\n",
       "        vertical-align: top;\n",
       "    }\n",
       "\n",
       "    .dataframe thead th {\n",
       "        text-align: right;\n",
       "    }\n",
       "</style>\n",
       "<table border=\"1\" class=\"dataframe\">\n",
       "  <thead>\n",
       "    <tr style=\"text-align: right;\">\n",
       "      <th></th>\n",
       "      <th>id</th>\n",
       "      <th>name</th>\n",
       "      <th>home_address_orders</th>\n",
       "      <th>total_orders</th>\n",
       "      <th>home_address_percent</th>\n",
       "    </tr>\n",
       "  </thead>\n",
       "  <tbody>\n",
       "    <tr>\n",
       "      <th>0</th>\n",
       "      <td>1</td>\n",
       "      <td>John Doe</td>\n",
       "      <td>1</td>\n",
       "      <td>2</td>\n",
       "      <td>50.00</td>\n",
       "    </tr>\n",
       "    <tr>\n",
       "      <th>1</th>\n",
       "      <td>2</td>\n",
       "      <td>Jane Smith</td>\n",
       "      <td>1</td>\n",
       "      <td>2</td>\n",
       "      <td>50.00</td>\n",
       "    </tr>\n",
       "    <tr>\n",
       "      <th>2</th>\n",
       "      <td>3</td>\n",
       "      <td>Alice Johnson</td>\n",
       "      <td>1</td>\n",
       "      <td>3</td>\n",
       "      <td>33.33</td>\n",
       "    </tr>\n",
       "  </tbody>\n",
       "</table>\n",
       "</div>"
      ],
      "text/plain": [
       "   id           name  home_address_orders  total_orders  home_address_percent\n",
       "0   1       John Doe                    1             2                 50.00\n",
       "1   2     Jane Smith                    1             2                 50.00\n",
       "2   3  Alice Johnson                    1             3                 33.33"
      ]
     },
     "execution_count": 46,
     "metadata": {},
     "output_type": "execute_result"
    }
   ],
   "source": [
    "query = \"\"\"\n",
    "WITH agg_transactions as(\n",
    "select user_id, shipping_address, count(*) as orders from transactions group by 1, 2\n",
    ")\n",
    "\n",
    "select\n",
    "    u.id,\n",
    "    u.name, \n",
    "    sum(case when u.address = t.shipping_address then orders else 0 end) as home_address_orders,\n",
    "    sum(orders) as total_orders,\n",
    "    ROUND(sum(case when u.address = t.shipping_address then orders else 0 end) * 100.0 / sum(orders), 2) as home_address_percent\n",
    "from\n",
    "    users u left join agg_transactions t on u.id = t.user_id\n",
    "group by\n",
    "    1, 2;\n",
    "\"\"\"\n",
    "\n",
    "df = pd.read_sql_query(query, conn)\n",
    "df"
   ]
  },
  {
   "cell_type": "markdown",
   "id": "e55ee90c",
   "metadata": {},
   "source": [
    "# Question 3"
   ]
  },
  {
   "cell_type": "code",
   "execution_count": null,
   "id": "0a10ca3a",
   "metadata": {},
   "outputs": [],
   "source": [
    "# -- Question\n",
    "\n",
    "# Given a table of job postings, \n",
    "# write a query to retrieve the number of users \n",
    "# that have posted each job only once and the number of users that have posted at least one job multiple times."
   ]
  },
  {
   "cell_type": "code",
   "execution_count": 47,
   "id": "573cd4d3",
   "metadata": {},
   "outputs": [
    {
     "name": "stdout",
     "output_type": "stream",
     "text": [
      " * sqlite:///TestQ.db\n",
      "Done.\n",
      "12 rows affected.\n"
     ]
    },
    {
     "data": {
      "text/plain": [
       "[]"
      ]
     },
     "execution_count": 47,
     "metadata": {},
     "output_type": "execute_result"
    }
   ],
   "source": [
    "%%sql\n",
    "\n",
    "CREATE TABLE job_postings (\n",
    "    id INT PRIMARY KEY,\n",
    "    user_id INT,\n",
    "    job_id INT,\n",
    "    posted_date DATETIME\n",
    ");\n",
    "\n",
    "INSERT INTO job_postings (id, user_id, job_id, posted_date) VALUES\n",
    "    (1, 1, 101, '2024-01-01'),\n",
    "    (2, 1, 102, '2024-01-02'),\n",
    "    (3, 2, 201, '2024-01-01'),\n",
    "    (4, 2, 201, '2024-01-15'),\n",
    "    (5, 2, 202, '2024-01-03'),\n",
    "    (6, 3, 301, '2024-01-01'),\n",
    "    (7, 4, 401, '2024-01-01'),\n",
    "    (8, 4, 401, '2024-01-15'),\n",
    "    (9, 4, 402, '2024-01-02'),\n",
    "    (10, 4, 402, '2024-01-16'),\n",
    "    (11, 5, 501, '2024-01-05'),\n",
    "    (12, 5, 502, '2024-01-10');"
   ]
  },
  {
   "cell_type": "code",
   "execution_count": null,
   "id": "3045c32c",
   "metadata": {},
   "outputs": [],
   "source": [
    "# id, user_id, job_id, posted_date"
   ]
  },
  {
   "cell_type": "code",
   "execution_count": 50,
   "id": "035ee2f6",
   "metadata": {},
   "outputs": [
    {
     "data": {
      "text/html": [
       "<div>\n",
       "<style scoped>\n",
       "    .dataframe tbody tr th:only-of-type {\n",
       "        vertical-align: middle;\n",
       "    }\n",
       "\n",
       "    .dataframe tbody tr th {\n",
       "        vertical-align: top;\n",
       "    }\n",
       "\n",
       "    .dataframe thead th {\n",
       "        text-align: right;\n",
       "    }\n",
       "</style>\n",
       "<table border=\"1\" class=\"dataframe\">\n",
       "  <thead>\n",
       "    <tr style=\"text-align: right;\">\n",
       "      <th></th>\n",
       "      <th>user_id</th>\n",
       "      <th>max_num_posts</th>\n",
       "      <th>class</th>\n",
       "    </tr>\n",
       "  </thead>\n",
       "  <tbody>\n",
       "    <tr>\n",
       "      <th>0</th>\n",
       "      <td>1</td>\n",
       "      <td>1</td>\n",
       "      <td>Single Poster</td>\n",
       "    </tr>\n",
       "    <tr>\n",
       "      <th>1</th>\n",
       "      <td>2</td>\n",
       "      <td>2</td>\n",
       "      <td>Multiple Poster</td>\n",
       "    </tr>\n",
       "    <tr>\n",
       "      <th>2</th>\n",
       "      <td>3</td>\n",
       "      <td>1</td>\n",
       "      <td>Single Poster</td>\n",
       "    </tr>\n",
       "    <tr>\n",
       "      <th>3</th>\n",
       "      <td>4</td>\n",
       "      <td>2</td>\n",
       "      <td>Multiple Poster</td>\n",
       "    </tr>\n",
       "    <tr>\n",
       "      <th>4</th>\n",
       "      <td>5</td>\n",
       "      <td>1</td>\n",
       "      <td>Single Poster</td>\n",
       "    </tr>\n",
       "  </tbody>\n",
       "</table>\n",
       "</div>"
      ],
      "text/plain": [
       "   user_id  max_num_posts            class\n",
       "0        1              1    Single Poster\n",
       "1        2              2  Multiple Poster\n",
       "2        3              1    Single Poster\n",
       "3        4              2  Multiple Poster\n",
       "4        5              1    Single Poster"
      ]
     },
     "execution_count": 50,
     "metadata": {},
     "output_type": "execute_result"
    }
   ],
   "source": [
    "query = \"\"\"\n",
    "with agg_jobs as (\n",
    "select user_id, job_id, count(*) as num_posts from job_postings group by 1, 2\n",
    ")\n",
    "\n",
    "select\n",
    "    user_id,\n",
    "    max(num_posts) as max_num_posts,\n",
    "    case when max(num_posts) = 1 then 'Single Poster' else 'Multiple Poster' end as class\n",
    "from\n",
    "    agg_jobs\n",
    "group by 1\n",
    "\"\"\"\n",
    "\n",
    "df = pd.read_sql_query(query, conn)\n",
    "df"
   ]
  },
  {
   "cell_type": "code",
   "execution_count": 58,
   "id": "130c8144",
   "metadata": {},
   "outputs": [
    {
     "data": {
      "text/html": [
       "<div>\n",
       "<style scoped>\n",
       "    .dataframe tbody tr th:only-of-type {\n",
       "        vertical-align: middle;\n",
       "    }\n",
       "\n",
       "    .dataframe tbody tr th {\n",
       "        vertical-align: top;\n",
       "    }\n",
       "\n",
       "    .dataframe thead th {\n",
       "        text-align: right;\n",
       "    }\n",
       "</style>\n",
       "<table border=\"1\" class=\"dataframe\">\n",
       "  <thead>\n",
       "    <tr style=\"text-align: right;\">\n",
       "      <th></th>\n",
       "      <th>num_single_posters</th>\n",
       "      <th>num_multiple_posters</th>\n",
       "    </tr>\n",
       "  </thead>\n",
       "  <tbody>\n",
       "    <tr>\n",
       "      <th>0</th>\n",
       "      <td>3</td>\n",
       "      <td>2</td>\n",
       "    </tr>\n",
       "  </tbody>\n",
       "</table>\n",
       "</div>"
      ],
      "text/plain": [
       "   num_single_posters  num_multiple_posters\n",
       "0                   3                     2"
      ]
     },
     "execution_count": 58,
     "metadata": {},
     "output_type": "execute_result"
    }
   ],
   "source": [
    "query = \"\"\"\n",
    "with agg_jobs as (\n",
    "select user_id, job_id, count(*) as num_posts from job_postings group by 1, 2\n",
    "),\n",
    "\n",
    "agg_jobs_max as (\n",
    "select user_id, max(num_posts) as max_num_posts from agg_jobs group by 1\n",
    ")\n",
    "\n",
    "select\n",
    "    sum(case when max_num_posts = 1 then 1 else 0 end) as num_single_posters,\n",
    "    sum(case when max_num_posts > 1 then 1 else 0 end) as num_multiple_posters\n",
    "from\n",
    "    agg_jobs_max\n",
    "\"\"\"\n",
    "\n",
    "df = pd.read_sql_query(query, conn)\n",
    "df"
   ]
  },
  {
   "cell_type": "markdown",
   "id": "3b3fc892",
   "metadata": {},
   "source": [
    "# Question 4"
   ]
  },
  {
   "cell_type": "code",
   "execution_count": null,
   "id": "8be7dd45",
   "metadata": {},
   "outputs": [],
   "source": [
    "# -- Question\n",
    "\n",
    "# Given a table of customer sales in a retail store \n",
    "# with columns id, transaction_value, and created_at representing the date and time for each transaction, \n",
    "# write a query to get the last transaction for each day.\n",
    "\n",
    "# The output should include the ID of the transaction, datetime of the transaction, and the transaction amount. \n",
    "# Order the transactions by datetime.\n"
   ]
  },
  {
   "cell_type": "code",
   "execution_count": 59,
   "id": "48273c09",
   "metadata": {},
   "outputs": [
    {
     "name": "stdout",
     "output_type": "stream",
     "text": [
      " * sqlite:///TestQ.db\n",
      "Done.\n",
      "8 rows affected.\n"
     ]
    },
    {
     "data": {
      "text/plain": [
       "[]"
      ]
     },
     "execution_count": 59,
     "metadata": {},
     "output_type": "execute_result"
    }
   ],
   "source": [
    "%%sql\n",
    "\n",
    "CREATE TABLE customer_sales (\n",
    "id INT PRIMARY KEY,\n",
    "transaction_value DECIMAL(10, 2),\n",
    "created_at DATETIME\n",
    ");\n",
    "\n",
    "INSERT INTO customer_sales (id, transaction_value, created_at)\n",
    "VALUES\n",
    "(1, 50.00, '2025-01-23 10:15:00'),\n",
    "(2, 30.00, '2025-01-23 15:45:00'),\n",
    "(3, 20.00, '2025-01-23 18:30:00'),\n",
    "(4, 45.00, '2025-01-24 09:20:00'),\n",
    "(5, 60.00, '2025-01-24 22:10:00'),\n",
    "(6, 25.00, '2025-01-25 11:30:00'),\n",
    "(7, 35.00, '2025-01-25 14:50:00'),\n",
    "(8, 55.00, '2025-01-25 19:05:00');\n"
   ]
  },
  {
   "cell_type": "code",
   "execution_count": 75,
   "id": "73f23f43",
   "metadata": {},
   "outputs": [
    {
     "data": {
      "text/html": [
       "<div>\n",
       "<style scoped>\n",
       "    .dataframe tbody tr th:only-of-type {\n",
       "        vertical-align: middle;\n",
       "    }\n",
       "\n",
       "    .dataframe tbody tr th {\n",
       "        vertical-align: top;\n",
       "    }\n",
       "\n",
       "    .dataframe thead th {\n",
       "        text-align: right;\n",
       "    }\n",
       "</style>\n",
       "<table border=\"1\" class=\"dataframe\">\n",
       "  <thead>\n",
       "    <tr style=\"text-align: right;\">\n",
       "      <th></th>\n",
       "      <th>id</th>\n",
       "      <th>created_at</th>\n",
       "      <th>transaction_value</th>\n",
       "    </tr>\n",
       "  </thead>\n",
       "  <tbody>\n",
       "    <tr>\n",
       "      <th>0</th>\n",
       "      <td>3</td>\n",
       "      <td>2025-01-23 18:30:00</td>\n",
       "      <td>20</td>\n",
       "    </tr>\n",
       "    <tr>\n",
       "      <th>1</th>\n",
       "      <td>5</td>\n",
       "      <td>2025-01-24 22:10:00</td>\n",
       "      <td>60</td>\n",
       "    </tr>\n",
       "    <tr>\n",
       "      <th>2</th>\n",
       "      <td>8</td>\n",
       "      <td>2025-01-25 19:05:00</td>\n",
       "      <td>55</td>\n",
       "    </tr>\n",
       "  </tbody>\n",
       "</table>\n",
       "</div>"
      ],
      "text/plain": [
       "   id           created_at  transaction_value\n",
       "0   3  2025-01-23 18:30:00                 20\n",
       "1   5  2025-01-24 22:10:00                 60\n",
       "2   8  2025-01-25 19:05:00                 55"
      ]
     },
     "execution_count": 75,
     "metadata": {},
     "output_type": "execute_result"
    }
   ],
   "source": [
    "query = \"\"\"\n",
    "with ranks as (\n",
    "select \n",
    "    *, \n",
    "    rank() over(partition by date(created_at) order by created_at desc) as rank\n",
    "from\n",
    "    customer_sales\n",
    ")\n",
    "\n",
    "select id, created_at, transaction_value from ranks where rank = 1 ORDER BY created_at asc;\n",
    "\"\"\"\n",
    "\n",
    "df = pd.read_sql_query(query, conn)\n",
    "df"
   ]
  },
  {
   "cell_type": "markdown",
   "id": "42b7dcff",
   "metadata": {},
   "source": [
    "# Question 5"
   ]
  },
  {
   "cell_type": "code",
   "execution_count": null,
   "id": "d95500c8",
   "metadata": {},
   "outputs": [],
   "source": [
    "# -- Question\n",
    "\n",
    "# Consider the events table, which contains information about the phases of writing a new social media post.\n",
    "\n",
    "# The action column can have values post_enter, post_submit, or post_canceled \n",
    "# for when a user starts to write (post_enter), ends up canceling their post (post_cancel), or posts it (post_submit). \n",
    "# Write a query to get the post-success rate for each day in the month of January 2020.\n",
    "\n",
    "# Note: Post Success Rate is defined as the number of posts submitted (post_submit) divided by the number of posts entered (post_enter) for each day.\n"
   ]
  },
  {
   "cell_type": "code",
   "execution_count": 78,
   "id": "d8f7f39c",
   "metadata": {},
   "outputs": [
    {
     "name": "stdout",
     "output_type": "stream",
     "text": [
      " * sqlite:///TestQ.db\n",
      "Done.\n",
      "Done.\n",
      "20 rows affected.\n"
     ]
    },
    {
     "data": {
      "text/plain": [
       "[]"
      ]
     },
     "execution_count": 78,
     "metadata": {},
     "output_type": "execute_result"
    }
   ],
   "source": [
    "%%sql\n",
    "\n",
    "drop table if exists events;\n",
    "\n",
    "CREATE TABLE events (\n",
    "user_id INT,\n",
    "created_at DATETIME,\n",
    "action VARCHAR(20)\n",
    ");\n",
    "\n",
    "INSERT INTO events VALUES\n",
    "(1, '2020-01-01 10:00:00', 'post_enter'),\n",
    "(1, '2020-01-01 10:05:00', 'post_submit'),\n",
    "(2, '2020-01-01 11:00:00', 'post_enter'),\n",
    "(2, '2020-01-01 11:10:00', 'post_canceled'),\n",
    "(3, '2020-01-01 15:00:00', 'post_enter'),\n",
    "(3, '2020-01-01 15:30:00', 'post_submit'),\n",
    "(4, '2020-01-02 09:00:00', 'post_enter'),\n",
    "(4, '2020-01-02 09:15:00', 'post_canceled'),\n",
    "(5, '2020-01-02 10:00:00', 'post_enter'),\n",
    "(5, '2020-01-02 10:10:00', 'post_canceled'),\n",
    "(10, '2020-01-15 14:00:00', 'post_enter'),\n",
    "(10, '2020-01-15 14:30:00', 'post_submit'),\n",
    "(6, '2019-12-31 23:55:00', 'post_enter'),\n",
    "(6, '2020-01-01 00:05:00', 'post_submit'),\n",
    "(7, '2020-02-01 00:00:00', 'post_enter'),\n",
    "(7, '2020-02-01 00:10:00', 'post_submit'),\n",
    "(8, '2019-01-15 10:00:00', 'post_enter'),\n",
    "(8, '2019-01-15 10:30:00', 'post_submit'),\n",
    "(9, '2021-01-01 09:00:00', 'post_enter'),\n",
    "(9, '2021-01-01 09:10:00', 'post_canceled');"
   ]
  },
  {
   "cell_type": "code",
   "execution_count": 92,
   "id": "4fbdb862",
   "metadata": {},
   "outputs": [
    {
     "data": {
      "text/html": [
       "<div>\n",
       "<style scoped>\n",
       "    .dataframe tbody tr th:only-of-type {\n",
       "        vertical-align: middle;\n",
       "    }\n",
       "\n",
       "    .dataframe tbody tr th {\n",
       "        vertical-align: top;\n",
       "    }\n",
       "\n",
       "    .dataframe thead th {\n",
       "        text-align: right;\n",
       "    }\n",
       "</style>\n",
       "<table border=\"1\" class=\"dataframe\">\n",
       "  <thead>\n",
       "    <tr style=\"text-align: right;\">\n",
       "      <th></th>\n",
       "      <th>date</th>\n",
       "      <th>year_month</th>\n",
       "      <th>post_success_rate</th>\n",
       "    </tr>\n",
       "  </thead>\n",
       "  <tbody>\n",
       "    <tr>\n",
       "      <th>0</th>\n",
       "      <td>2020-01-01</td>\n",
       "      <td>2020-01</td>\n",
       "      <td>100.0</td>\n",
       "    </tr>\n",
       "    <tr>\n",
       "      <th>1</th>\n",
       "      <td>2020-01-02</td>\n",
       "      <td>2020-01</td>\n",
       "      <td>0.0</td>\n",
       "    </tr>\n",
       "    <tr>\n",
       "      <th>2</th>\n",
       "      <td>2020-01-15</td>\n",
       "      <td>2020-01</td>\n",
       "      <td>100.0</td>\n",
       "    </tr>\n",
       "  </tbody>\n",
       "</table>\n",
       "</div>"
      ],
      "text/plain": [
       "         date year_month  post_success_rate\n",
       "0  2020-01-01    2020-01              100.0\n",
       "1  2020-01-02    2020-01                0.0\n",
       "2  2020-01-15    2020-01              100.0"
      ]
     },
     "execution_count": 92,
     "metadata": {},
     "output_type": "execute_result"
    }
   ],
   "source": [
    "query = \"\"\"\n",
    "select \n",
    "    date(created_at) as date,\n",
    "    strftime('%Y-%m', created_at) as year_month,\n",
    "    sum(case when action = 'post_submit' then 1 else 0 end) * 100.0/ sum(case when action = 'post_enter' then 1 else 0 end) as post_success_rate\n",
    "from \n",
    "    events\n",
    "where \n",
    "    strftime('%Y-%m', created_at) = '2020-01'\n",
    "group by date\n",
    "order by date;\n",
    "\"\"\"\n",
    "\n",
    "df = pd.read_sql_query(query, conn)\n",
    "df"
   ]
  },
  {
   "cell_type": "markdown",
   "id": "b5dd4aa2",
   "metadata": {},
   "source": [
    "# Question 6"
   ]
  },
  {
   "cell_type": "code",
   "execution_count": null,
   "id": "45a2b811",
   "metadata": {},
   "outputs": [],
   "source": [
    "# -- Question\n",
    "\n",
    "# Given a table of transactions and products, \n",
    "# write a query to return the \n",
    "# product ID, product price, and average transaction price of all products with a price greater than the average transaction price."
   ]
  },
  {
   "cell_type": "code",
   "execution_count": 94,
   "id": "d624e957",
   "metadata": {},
   "outputs": [
    {
     "name": "stdout",
     "output_type": "stream",
     "text": [
      " * sqlite:///TestQ.db\n",
      "Done.\n",
      "Done.\n",
      "Done.\n",
      "5 rows affected.\n",
      "Done.\n",
      "8 rows affected.\n"
     ]
    },
    {
     "data": {
      "text/plain": [
       "[]"
      ]
     },
     "execution_count": 94,
     "metadata": {},
     "output_type": "execute_result"
    }
   ],
   "source": [
    "%%sql\n",
    "\n",
    "drop table if exists products;\n",
    "drop table if exists transactions;\n",
    "\n",
    "CREATE TABLE products (\n",
    "product_id INT PRIMARY KEY,\n",
    "price DECIMAL(10,2)\n",
    ");\n",
    "\n",
    "INSERT INTO products (product_id, price) VALUES\n",
    "(1, 100.00),\n",
    "(2, 150.00),\n",
    "(3, 75.00),\n",
    "(4, 200.00),\n",
    "(5, 120.00);\n",
    "\n",
    "CREATE TABLE transactions (\n",
    "transaction_id INT PRIMARY KEY,\n",
    "product_id INT,\n",
    "amount DECIMAL(10,2),\n",
    "FOREIGN KEY (product_id) REFERENCES products(product_id)\n",
    ");\n",
    "\n",
    "INSERT INTO transactions (transaction_id, product_id, amount) VALUES\n",
    "(1, 1, 95.00),\n",
    "(2, 1, 98.00),\n",
    "(3, 2, 145.00),\n",
    "(4, 2, 150.00),\n",
    "(5, 3, 70.00),\n",
    "(6, 4, 190.00),\n",
    "(7, 4, 195.00),\n",
    "(8, 5, 115.00);"
   ]
  },
  {
   "cell_type": "code",
   "execution_count": 96,
   "id": "7c6acd04",
   "metadata": {},
   "outputs": [
    {
     "data": {
      "text/html": [
       "<div>\n",
       "<style scoped>\n",
       "    .dataframe tbody tr th:only-of-type {\n",
       "        vertical-align: middle;\n",
       "    }\n",
       "\n",
       "    .dataframe tbody tr th {\n",
       "        vertical-align: top;\n",
       "    }\n",
       "\n",
       "    .dataframe thead th {\n",
       "        text-align: right;\n",
       "    }\n",
       "</style>\n",
       "<table border=\"1\" class=\"dataframe\">\n",
       "  <thead>\n",
       "    <tr style=\"text-align: right;\">\n",
       "      <th></th>\n",
       "      <th>product_id</th>\n",
       "      <th>price</th>\n",
       "      <th>avg_price</th>\n",
       "    </tr>\n",
       "  </thead>\n",
       "  <tbody>\n",
       "    <tr>\n",
       "      <th>0</th>\n",
       "      <td>1</td>\n",
       "      <td>100</td>\n",
       "      <td>96.5</td>\n",
       "    </tr>\n",
       "    <tr>\n",
       "      <th>1</th>\n",
       "      <td>2</td>\n",
       "      <td>150</td>\n",
       "      <td>147.5</td>\n",
       "    </tr>\n",
       "    <tr>\n",
       "      <th>2</th>\n",
       "      <td>3</td>\n",
       "      <td>75</td>\n",
       "      <td>70.0</td>\n",
       "    </tr>\n",
       "    <tr>\n",
       "      <th>3</th>\n",
       "      <td>4</td>\n",
       "      <td>200</td>\n",
       "      <td>192.5</td>\n",
       "    </tr>\n",
       "    <tr>\n",
       "      <th>4</th>\n",
       "      <td>5</td>\n",
       "      <td>120</td>\n",
       "      <td>115.0</td>\n",
       "    </tr>\n",
       "  </tbody>\n",
       "</table>\n",
       "</div>"
      ],
      "text/plain": [
       "   product_id  price  avg_price\n",
       "0           1    100       96.5\n",
       "1           2    150      147.5\n",
       "2           3     75       70.0\n",
       "3           4    200      192.5\n",
       "4           5    120      115.0"
      ]
     },
     "execution_count": 96,
     "metadata": {},
     "output_type": "execute_result"
    }
   ],
   "source": [
    "query = \"\"\"\n",
    "with avg_transaction_price as (\n",
    "select product_id, avg(amount) as avg_price from transactions group by 1\n",
    ")\n",
    "\n",
    "select \n",
    "    p.product_id, \n",
    "    p.price,\n",
    "    t.avg_price\n",
    "from \n",
    "    products p left join avg_transaction_price t on p.product_id =  t.product_id\n",
    "where\n",
    "    p.price > t.avg_price;\n",
    "\"\"\"\n",
    "\n",
    "df = pd.read_sql_query(query, conn)\n",
    "df"
   ]
  },
  {
   "cell_type": "markdown",
   "id": "ec645a8f",
   "metadata": {},
   "source": [
    "# Question 7"
   ]
  },
  {
   "cell_type": "code",
   "execution_count": 97,
   "id": "c91a8991",
   "metadata": {},
   "outputs": [],
   "source": [
    "# -- Question\n",
    "\n",
    "# We’re given a table of product purchases. Each row in the table represents an individual user product purchase.\n",
    "\n",
    "# Write a query to get the number of customers that were upsold by purchasing additional products.\n",
    "\n",
    "# Note: If a customer purchased multiple products on the same day, it does not count as an upsell. \n",
    "# An upsell is considered only if they made purchases on separate days\n"
   ]
  },
  {
   "cell_type": "code",
   "execution_count": 99,
   "id": "7ae06918",
   "metadata": {},
   "outputs": [
    {
     "name": "stdout",
     "output_type": "stream",
     "text": [
      " * sqlite:///TestQ.db\n",
      "Done.\n",
      "Done.\n",
      "9 rows affected.\n"
     ]
    },
    {
     "data": {
      "text/plain": [
       "[]"
      ]
     },
     "execution_count": 99,
     "metadata": {},
     "output_type": "execute_result"
    }
   ],
   "source": [
    "%%sql\n",
    "\n",
    "drop table if exists transactions;\n",
    "\n",
    "CREATE TABLE transactions (\n",
    "id INTEGER PRIMARY KEY,\n",
    "user_id INTEGER,\n",
    "created_at DATETIME,\n",
    "product_id INTEGER,\n",
    "quantity INTEGER\n",
    ");\n",
    "\n",
    "INSERT INTO transactions (id, user_id, created_at, product_id, quantity) VALUES\n",
    "(1, 101, '2024-01-01 10:00:00', 1, 1),  \n",
    "(2, 101, '2024-01-01 14:00:00', 2, 1),\n",
    "(3, 101, '2024-01-15 09:00:00', 3, 1), \n",
    "(4, 102, '2024-01-05 11:00:00', 1, 2),\n",
    "(5, 102, '2024-01-05 11:30:00', 2, 1),\n",
    "(6, 103, '2024-01-02 15:00:00', 1, 1),\n",
    "(7, 104, '2024-01-01 09:00:00', 1, 1),\n",
    "(8, 104, '2024-01-02 10:00:00', 2, 1),\n",
    "(9, 104, '2024-01-03 11:00:00', 3, 1);\n"
   ]
  },
  {
   "cell_type": "code",
   "execution_count": 109,
   "id": "b40319bb",
   "metadata": {},
   "outputs": [
    {
     "data": {
      "text/html": [
       "<div>\n",
       "<style scoped>\n",
       "    .dataframe tbody tr th:only-of-type {\n",
       "        vertical-align: middle;\n",
       "    }\n",
       "\n",
       "    .dataframe tbody tr th {\n",
       "        vertical-align: top;\n",
       "    }\n",
       "\n",
       "    .dataframe thead th {\n",
       "        text-align: right;\n",
       "    }\n",
       "</style>\n",
       "<table border=\"1\" class=\"dataframe\">\n",
       "  <thead>\n",
       "    <tr style=\"text-align: right;\">\n",
       "      <th></th>\n",
       "      <th>user_id</th>\n",
       "      <th>num_unique_product_days</th>\n",
       "    </tr>\n",
       "  </thead>\n",
       "  <tbody>\n",
       "    <tr>\n",
       "      <th>0</th>\n",
       "      <td>101</td>\n",
       "      <td>3</td>\n",
       "    </tr>\n",
       "    <tr>\n",
       "      <th>1</th>\n",
       "      <td>102</td>\n",
       "      <td>2</td>\n",
       "    </tr>\n",
       "    <tr>\n",
       "      <th>2</th>\n",
       "      <td>103</td>\n",
       "      <td>1</td>\n",
       "    </tr>\n",
       "    <tr>\n",
       "      <th>3</th>\n",
       "      <td>104</td>\n",
       "      <td>3</td>\n",
       "    </tr>\n",
       "  </tbody>\n",
       "</table>\n",
       "</div>"
      ],
      "text/plain": [
       "   user_id  num_unique_product_days\n",
       "0      101                        3\n",
       "1      102                        2\n",
       "2      103                        1\n",
       "3      104                        3"
      ]
     },
     "execution_count": 109,
     "metadata": {},
     "output_type": "execute_result"
    }
   ],
   "source": [
    "query = \"\"\"\n",
    "WITH \n",
    "cust_table_pre AS (\n",
    "    SELECT *, DATE(created_at) AS txn_date\n",
    "    FROM transactions \n",
    "),\n",
    "\n",
    "cust_table AS (\n",
    "    SELECT \n",
    "        user_id, \n",
    "        COUNT(DISTINCT txn_date || ',' || product_id) AS num_unique_product_days\n",
    "    FROM cust_table_pre \n",
    "    GROUP BY user_id\n",
    ")\n",
    "\n",
    "SELECT * FROM cust_table;\n",
    "\"\"\"\n",
    "\n",
    "df = pd.read_sql_query(query, conn)\n",
    "df"
   ]
  },
  {
   "cell_type": "code",
   "execution_count": null,
   "id": "a3c0f18c",
   "metadata": {},
   "outputs": [],
   "source": [
    "\n"
   ]
  },
  {
   "cell_type": "code",
   "execution_count": null,
   "id": "a4a54b22",
   "metadata": {},
   "outputs": [],
   "source": []
  },
  {
   "cell_type": "code",
   "execution_count": null,
   "id": "9dd3f8df",
   "metadata": {},
   "outputs": [],
   "source": []
  },
  {
   "cell_type": "code",
   "execution_count": null,
   "id": "5974c626",
   "metadata": {},
   "outputs": [],
   "source": []
  },
  {
   "cell_type": "code",
   "execution_count": null,
   "id": "5c473e83",
   "metadata": {},
   "outputs": [],
   "source": []
  },
  {
   "cell_type": "code",
   "execution_count": null,
   "id": "f34119aa",
   "metadata": {},
   "outputs": [],
   "source": []
  }
 ],
 "metadata": {
  "kernelspec": {
   "display_name": "Python 3",
   "language": "python",
   "name": "python3"
  },
  "language_info": {
   "codemirror_mode": {
    "name": "ipython",
    "version": 3
   },
   "file_extension": ".py",
   "mimetype": "text/x-python",
   "name": "python",
   "nbconvert_exporter": "python",
   "pygments_lexer": "ipython3",
   "version": "3.10.0"
  }
 },
 "nbformat": 4,
 "nbformat_minor": 5
}
