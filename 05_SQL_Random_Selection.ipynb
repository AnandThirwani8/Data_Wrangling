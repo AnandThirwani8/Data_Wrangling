{
 "cells": [
  {
   "cell_type": "markdown",
   "metadata": {},
   "source": [
    "# Imports"
   ]
  },
  {
   "cell_type": "code",
   "execution_count": 1,
   "metadata": {},
   "outputs": [],
   "source": [
    "%load_ext sql\n",
    "%sql sqlite:///TestQ.db\n",
    "\n",
    "import pandas as pd\n",
    "import sqlite3\n",
    "# Connect to DB\n",
    "conn = sqlite3.connect(\"TestQ.db\")"
   ]
  },
  {
   "cell_type": "markdown",
   "metadata": {},
   "source": [
    "# Question"
   ]
  },
  {
   "cell_type": "markdown",
   "metadata": {},
   "source": [
    "Let’s say we want to improve the matching algorithm for drivers and riders for Uber. The engineering team has added a column to the `drivers` table with a weighted value for better matching.\n",
    "\n",
    "**Given this table of drivers, write a query to perform a weighted random selection of a driver based on the driver weight.**"
   ]
  },
  {
   "cell_type": "code",
   "execution_count": 2,
   "metadata": {},
   "outputs": [
    {
     "name": "stdout",
     "output_type": "stream",
     "text": [
      " * sqlite:///TestQ.db\n",
      "Done.\n",
      "10 rows affected.\n"
     ]
    },
    {
     "data": {
      "text/plain": [
       "[]"
      ]
     },
     "execution_count": 2,
     "metadata": {},
     "output_type": "execute_result"
    }
   ],
   "source": [
    "%%sql\n",
    "\n",
    "CREATE TABLE drivers (\n",
    "    driver_id INTEGER PRIMARY KEY,\n",
    "    weight INTEGER\n",
    ");\n",
    "\n",
    "INSERT INTO drivers (driver_id, weight) VALUES\n",
    "(1, 5),\n",
    "(2, 10),\n",
    "(3, 15),\n",
    "(4, 20),\n",
    "(5, 5),\n",
    "(6, 10),\n",
    "(7, 10),\n",
    "(8, 5),\n",
    "(9, 10),\n",
    "(10, 1000);"
   ]
  },
  {
   "cell_type": "markdown",
   "metadata": {},
   "source": [
    "# Answer"
   ]
  },
  {
   "cell_type": "code",
   "execution_count": 3,
   "metadata": {},
   "outputs": [
    {
     "data": {
      "text/html": [
       "<div>\n",
       "<style scoped>\n",
       "    .dataframe tbody tr th:only-of-type {\n",
       "        vertical-align: middle;\n",
       "    }\n",
       "\n",
       "    .dataframe tbody tr th {\n",
       "        vertical-align: top;\n",
       "    }\n",
       "\n",
       "    .dataframe thead th {\n",
       "        text-align: right;\n",
       "    }\n",
       "</style>\n",
       "<table border=\"1\" class=\"dataframe\">\n",
       "  <thead>\n",
       "    <tr style=\"text-align: right;\">\n",
       "      <th></th>\n",
       "      <th>driver_id</th>\n",
       "      <th>weight</th>\n",
       "      <th>total_weight</th>\n",
       "      <th>cum_weight</th>\n",
       "    </tr>\n",
       "  </thead>\n",
       "  <tbody>\n",
       "    <tr>\n",
       "      <th>0</th>\n",
       "      <td>1</td>\n",
       "      <td>5</td>\n",
       "      <td>1090</td>\n",
       "      <td>5</td>\n",
       "    </tr>\n",
       "    <tr>\n",
       "      <th>1</th>\n",
       "      <td>2</td>\n",
       "      <td>10</td>\n",
       "      <td>1090</td>\n",
       "      <td>15</td>\n",
       "    </tr>\n",
       "    <tr>\n",
       "      <th>2</th>\n",
       "      <td>3</td>\n",
       "      <td>15</td>\n",
       "      <td>1090</td>\n",
       "      <td>30</td>\n",
       "    </tr>\n",
       "    <tr>\n",
       "      <th>3</th>\n",
       "      <td>4</td>\n",
       "      <td>20</td>\n",
       "      <td>1090</td>\n",
       "      <td>50</td>\n",
       "    </tr>\n",
       "    <tr>\n",
       "      <th>4</th>\n",
       "      <td>5</td>\n",
       "      <td>5</td>\n",
       "      <td>1090</td>\n",
       "      <td>55</td>\n",
       "    </tr>\n",
       "    <tr>\n",
       "      <th>5</th>\n",
       "      <td>6</td>\n",
       "      <td>10</td>\n",
       "      <td>1090</td>\n",
       "      <td>65</td>\n",
       "    </tr>\n",
       "    <tr>\n",
       "      <th>6</th>\n",
       "      <td>7</td>\n",
       "      <td>10</td>\n",
       "      <td>1090</td>\n",
       "      <td>75</td>\n",
       "    </tr>\n",
       "    <tr>\n",
       "      <th>7</th>\n",
       "      <td>8</td>\n",
       "      <td>5</td>\n",
       "      <td>1090</td>\n",
       "      <td>80</td>\n",
       "    </tr>\n",
       "    <tr>\n",
       "      <th>8</th>\n",
       "      <td>9</td>\n",
       "      <td>10</td>\n",
       "      <td>1090</td>\n",
       "      <td>90</td>\n",
       "    </tr>\n",
       "    <tr>\n",
       "      <th>9</th>\n",
       "      <td>10</td>\n",
       "      <td>1000</td>\n",
       "      <td>1090</td>\n",
       "      <td>1090</td>\n",
       "    </tr>\n",
       "  </tbody>\n",
       "</table>\n",
       "</div>"
      ],
      "text/plain": [
       "   driver_id  weight  total_weight  cum_weight\n",
       "0          1       5          1090           5\n",
       "1          2      10          1090          15\n",
       "2          3      15          1090          30\n",
       "3          4      20          1090          50\n",
       "4          5       5          1090          55\n",
       "5          6      10          1090          65\n",
       "6          7      10          1090          75\n",
       "7          8       5          1090          80\n",
       "8          9      10          1090          90\n",
       "9         10    1000          1090        1090"
      ]
     },
     "execution_count": 3,
     "metadata": {},
     "output_type": "execute_result"
    }
   ],
   "source": [
    "query = \"\"\"\n",
    "WITH driver_weights AS (\n",
    "    SELECT \n",
    "        driver_id,\n",
    "        weight,\n",
    "        SUM(weight) OVER () AS total_weight,\n",
    "        SUM(weight) OVER (ORDER BY driver_id ASC) AS cum_weight\n",
    "    FROM drivers\n",
    ")\n",
    "\n",
    "SELECT * FROM driver_weights;\n",
    "\"\"\"\n",
    "\n",
    "df = pd.read_sql_query(query, conn)\n",
    "df"
   ]
  },
  {
   "cell_type": "code",
   "execution_count": 27,
   "metadata": {},
   "outputs": [
    {
     "data": {
      "text/html": [
       "<div>\n",
       "<style scoped>\n",
       "    .dataframe tbody tr th:only-of-type {\n",
       "        vertical-align: middle;\n",
       "    }\n",
       "\n",
       "    .dataframe tbody tr th {\n",
       "        vertical-align: top;\n",
       "    }\n",
       "\n",
       "    .dataframe thead th {\n",
       "        text-align: right;\n",
       "    }\n",
       "</style>\n",
       "<table border=\"1\" class=\"dataframe\">\n",
       "  <thead>\n",
       "    <tr style=\"text-align: right;\">\n",
       "      <th></th>\n",
       "      <th>driver_id</th>\n",
       "      <th>weight</th>\n",
       "      <th>total_weight</th>\n",
       "      <th>cum_weight</th>\n",
       "      <th>random_num</th>\n",
       "    </tr>\n",
       "  </thead>\n",
       "  <tbody>\n",
       "    <tr>\n",
       "      <th>0</th>\n",
       "      <td>10</td>\n",
       "      <td>1000</td>\n",
       "      <td>1090</td>\n",
       "      <td>1090</td>\n",
       "      <td>0.146621</td>\n",
       "    </tr>\n",
       "  </tbody>\n",
       "</table>\n",
       "</div>"
      ],
      "text/plain": [
       "   driver_id  weight  total_weight  cum_weight  random_num\n",
       "0         10    1000          1090        1090    0.146621"
      ]
     },
     "execution_count": 27,
     "metadata": {},
     "output_type": "execute_result"
    }
   ],
   "source": [
    "query = \"\"\"\n",
    "WITH driver_weights AS (\n",
    "    SELECT \n",
    "        driver_id,\n",
    "        weight,\n",
    "        SUM(weight) OVER () AS total_weight,\n",
    "        SUM(weight) OVER (ORDER BY driver_id ASC) AS cum_weight\n",
    "    FROM drivers\n",
    ")\n",
    "\n",
    "SELECT \n",
    "    *, \n",
    "    (RANDOM() / (9223372036854775807 * 1.0) + 1) / 2 as random_num\n",
    "FROM \n",
    "    driver_weights where cum_weight > total_weight * (RANDOM() / (9223372036854775807 * 1.0) + 1) / 2 limit 1;\n",
    "\"\"\"\n",
    "\n",
    "# You can use the function RAND() directly to get number between 0 and 1\n",
    "\n",
    "df = pd.read_sql_query(query, conn)\n",
    "df"
   ]
  },
  {
   "cell_type": "markdown",
   "metadata": {},
   "source": [
    "### 🎯 Goal\n",
    "We want to randomly select one driver from a table, but the probability of selecting each driver should be **proportional to their weight**.\n",
    "\n",
    "---\n",
    "\n",
    "### 👣 Step-by-Step Explanation\n",
    "\n",
    "#### 1. **Visualizing Weights as a Number Line**\n",
    "Imagine we have drivers and their weights:\n",
    "\n",
    "| Driver | Weight |\n",
    "|--------|--------|\n",
    "| 1      | 5      |\n",
    "| 2      | 10     |\n",
    "| 3      | 15     |\n",
    "\n",
    "This gives a total weight of **30**. Now imagine a number line from `0` to `30`, divided like so:\n",
    "\n",
    "- Driver 1 owns [0, 5)\n",
    "- Driver 2 owns [5, 15)\n",
    "- Driver 3 owns [15, 30)\n",
    "\n",
    "Each driver \"owns\" a portion of the line proportional to their weight.\n",
    "\n",
    "---\n",
    "\n",
    "#### 2. **Random Selection on the Line**\n",
    "We generate a random number `r` between `0` and `30`. The driver whose interval contains `r` is selected. This ensures drivers with higher weights are more likely to be picked.\n",
    "\n",
    "---\n",
    "\n",
    "#### 3. **SQL Query Replication**\n",
    "Here's the SQL query that implements this logic:\n",
    "\n",
    "```sql\n",
    "WITH driver_weights AS (\n",
    "    SELECT \n",
    "        driver_id,\n",
    "        weight,\n",
    "        SUM(weight) OVER () AS total_weight,\n",
    "        SUM(weight) OVER (ORDER BY driver_id ASC) AS cum_weight\n",
    "    FROM drivers\n",
    ")\n",
    "SELECT driver_id\n",
    "FROM driver_weights \n",
    "WHERE cum_weight > total_weight * RAND()\n",
    "ORDER BY cum_weight\n",
    "LIMIT 1;\n"
   ]
  },
  {
   "cell_type": "code",
   "execution_count": null,
   "metadata": {},
   "outputs": [],
   "source": []
  },
  {
   "cell_type": "code",
   "execution_count": null,
   "metadata": {},
   "outputs": [],
   "source": []
  },
  {
   "cell_type": "code",
   "execution_count": null,
   "metadata": {},
   "outputs": [],
   "source": []
  },
  {
   "cell_type": "code",
   "execution_count": null,
   "metadata": {},
   "outputs": [],
   "source": []
  }
 ],
 "metadata": {
  "kernelspec": {
   "display_name": "Python 3",
   "language": "python",
   "name": "python3"
  },
  "language_info": {
   "codemirror_mode": {
    "name": "ipython",
    "version": 3
   },
   "file_extension": ".py",
   "mimetype": "text/x-python",
   "name": "python",
   "nbconvert_exporter": "python",
   "pygments_lexer": "ipython3",
   "version": "3.10.0"
  }
 },
 "nbformat": 4,
 "nbformat_minor": 2
}
